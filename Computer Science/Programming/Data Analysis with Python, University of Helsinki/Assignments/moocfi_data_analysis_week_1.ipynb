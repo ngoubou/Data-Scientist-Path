{
 "cells": [
  {
   "cell_type": "code",
   "execution_count": 1,
   "id": "15921365",
   "metadata": {},
   "outputs": [
    {
     "name": "stdout",
     "output_type": "stream",
     "text": [
      "Hello world2!\n"
     ]
    }
   ],
   "source": [
    "print(\"Hello world2!\")"
   ]
  },
  {
   "cell_type": "code",
   "execution_count": 1,
   "id": "ab382aec",
   "metadata": {},
   "outputs": [
    {
     "data": {
      "text/plain": [
       "int"
      ]
     },
     "execution_count": 1,
     "metadata": {},
     "output_type": "execute_result"
    }
   ],
   "source": [
    "type(1)"
   ]
  },
  {
   "cell_type": "code",
   "execution_count": 4,
   "id": "7e2d9ebe",
   "metadata": {},
   "outputs": [
    {
     "name": "stdout",
     "output_type": "stream",
     "text": [
      "I don't want to go\n"
     ]
    }
   ],
   "source": [
    "print(\"I don't want to go\")"
   ]
  },
  {
   "cell_type": "code",
   "execution_count": 8,
   "id": "56136506",
   "metadata": {},
   "outputs": [
    {
     "name": "stdout",
     "output_type": "stream",
     "text": [
      "One\tTwo\n",
      "Three\tFour\n"
     ]
    }
   ],
   "source": [
    "print(\"One\\tTwo\\nThree\\tFour\")"
   ]
  },
  {
   "cell_type": "code",
   "execution_count": 14,
   "id": "a402b469",
   "metadata": {},
   "outputs": [],
   "source": [
    "s = \"\"\"A string\n",
    "spanning over\n",
    "several lines\"\"\""
   ]
  },
  {
   "cell_type": "code",
   "execution_count": 15,
   "id": "1123147a",
   "metadata": {},
   "outputs": [
    {
     "name": "stdout",
     "output_type": "stream",
     "text": [
      "A string\n",
      "spanning over\n",
      "several lines\n"
     ]
    }
   ],
   "source": [
    "print(s)"
   ]
  },
  {
   "cell_type": "code",
   "execution_count": 27,
   "id": "437a8a17",
   "metadata": {},
   "outputs": [
    {
     "name": "stdout",
     "output_type": "stream",
     "text": [
      "firstsecond\n"
     ]
    }
   ],
   "source": [
    "a=\"first\"\n",
    "b=\"second\"\n",
    "print(a + b)"
   ]
  },
  {
   "cell_type": "code",
   "execution_count": 31,
   "id": "0fb1d2c9",
   "metadata": {},
   "outputs": [
    {
     "name": "stdout",
     "output_type": "stream",
     "text": [
      "first_second\n"
     ]
    }
   ],
   "source": [
    "print(\" \".join([a, b]))  "
   ]
  },
  {
   "cell_type": "code",
   "execution_count": 32,
   "id": "ed897229",
   "metadata": {},
   "outputs": [
    {
     "name": "stdout",
     "output_type": "stream",
     "text": [
      "1 plus 3 is equal to 4\n"
     ]
    }
   ],
   "source": [
    "print(\"%i plus %i is equal to %i\" % (1, 3, 4))     # Format syntax\n",
    "print(\"%.1f %.2f %.3f\" % (1.6, 1.7, 1.8))               # Old style\n",
    "print(\"{:.1f} {:.2f} {:.3f}\".format(1.6, 1.7, 1.8))     # newer style\n",
    "print(\"{0} concatenated with {1} produces {0}{1}\".format(\"water\", \"melon\"))"
   ]
  },
  {
   "cell_type": "code",
   "execution_count": 71,
   "id": "662478ca",
   "metadata": {},
   "outputs": [
    {
     "name": "stdout",
     "output_type": "stream",
     "text": [
      "Finished printing all the squares below 1000.\n"
     ]
    }
   ],
   "source": [
    "i = 1\n",
    "while i * i < 1000:\n",
    "    print(\"Square of\", i, \"is\", i * i)\n",
    "    i = i + 1\n",
    "print(\"Finished printing all the squares below 1000.\")"
   ]
  },
  {
   "cell_type": "code",
   "execution_count": 76,
   "id": "cc06fc15",
   "metadata": {},
   "outputs": [
    {
     "name": "stdout",
     "output_type": "stream",
     "text": [
      "The sum is 45\n"
     ]
    }
   ],
   "source": [
    "s = 0\n",
    "for i in [0,1,2,3,4,5,6,7,8,9]:\n",
    "    s = s + i\n",
    "print(\"The sum is\", s)"
   ]
  },
  {
   "cell_type": "markdown",
   "id": "6e170072",
   "metadata": {},
   "source": [
    "Note that you can use the following form to stop the print function from automatically starting a new line:"
   ]
  },
  {
   "cell_type": "code",
   "execution_count": 103,
   "id": "4973990c",
   "metadata": {},
   "outputs": [
    {
     "name": "stdout",
     "output_type": "stream",
     "text": [
      "text 1 more text\n"
     ]
    }
   ],
   "source": [
    "print(\"text\", 1, end = \" \")\n",
    "print(\"more text\")"
   ]
  },
  {
   "cell_type": "code",
   "execution_count": 104,
   "id": "8310560d",
   "metadata": {},
   "outputs": [
    {
     "name": "stdout",
     "output_type": "stream",
     "text": [
      "text 1\n",
      "more text\n"
     ]
    }
   ],
   "source": [
    "print(\"text\", 1)\n",
    "print(\"more text\")"
   ]
  },
  {
   "cell_type": "code",
   "execution_count": 118,
   "id": "c28ec277",
   "metadata": {},
   "outputs": [
    {
     "name": "stdout",
     "output_type": "stream",
     "text": [
      "1 2 3 4 5 "
     ]
    }
   ],
   "source": [
    "for i in range(5):\n",
    "    #print(i, end = \" \")\n",
    "    print(i + 1, end = \" \")\n",
    "    #for j in range(5):\n",
    "        #print(j + 1, end = \" \")"
   ]
  },
  {
   "cell_type": "code",
   "execution_count": 163,
   "id": "9e1cc817",
   "metadata": {},
   "outputs": [],
   "source": [
    "def mult():\n",
    "    for i in range(1, 11):\n",
    "        for j in range(1, 11):\n",
    "            print('{:4d}'.format(i * j), end = \" \")\n",
    "        print(\"\\n\")"
   ]
  },
  {
   "cell_type": "markdown",
   "id": "1b4e1fcf",
   "metadata": {},
   "source": [
    "### Exercise 4"
   ]
  },
  {
   "cell_type": "code",
   "execution_count": 183,
   "id": "e54d94a3",
   "metadata": {},
   "outputs": [
    {
     "name": "stdout",
     "output_type": "stream",
     "text": [
      "   1   2   3   4   5   6   7   8   9  10\n",
      "\n",
      "   2   4   6   8  10  12  14  16  18  20\n",
      "\n",
      "   3   6   9  12  15  18  21  24  27  30\n",
      "\n",
      "   4   8  12  16  20  24  28  32  36  40\n",
      "\n",
      "   5  10  15  20  25  30  35  40  45  50\n",
      "\n",
      "   6  12  18  24  30  36  42  48  54  60\n",
      "\n",
      "   7  14  21  28  35  42  49  56  63  70\n",
      "\n",
      "   8  16  24  32  40  48  56  64  72  80\n",
      "\n",
      "   9  18  27  36  45  54  63  72  81  90\n",
      "\n",
      "  10  20  30  40  50  60  70  80  90 100\n",
      "\n"
     ]
    }
   ],
   "source": [
    "# the code below was not validated by the grader because of the last print statement\n",
    "# use print()\n",
    "\n",
    "for i in range(1, 11):\n",
    "    for j in range(1, 11):\n",
    "        print('{:4d}'.format(i * j), end = \"\")\n",
    "    print(\"\\n\")"
   ]
  },
  {
   "cell_type": "code",
   "execution_count": 181,
   "id": "f65a003c",
   "metadata": {},
   "outputs": [
    {
     "name": "stdout",
     "output_type": "stream",
     "text": [
      "Give an integer: 6\n",
      "The absolute value of 6 is 6\n"
     ]
    }
   ],
   "source": [
    "x=input(\"Give an integer: \")\n",
    "x=int(x)\n",
    "if x >= 0:\n",
    "    a=x\n",
    "else:\n",
    "    a=-x\n",
    "print(\"The absolute value of %i is %i\" % (x, a))"
   ]
  },
  {
   "cell_type": "code",
   "execution_count": 182,
   "id": "681471bf",
   "metadata": {},
   "outputs": [
    {
     "name": "stdout",
     "output_type": "stream",
     "text": [
      "Square root of 1 is 1.000\n",
      "Natural logarithm of 1 is 0.0000\n",
      "Square root of 3 is 1.732\n",
      "Natural logarithm of 3 is 1.0986\n",
      "Square root of 65 is 8.062\n",
      "Natural logarithm of 65 is 4.1744\n",
      "Square root of 3 is 1.732\n",
      "Natural logarithm of 3 is 1.0986\n",
      "Square root of 56 is 7.483\n",
      "Natural logarithm of 56 is 4.0254\n"
     ]
    }
   ],
   "source": [
    "from math import sqrt, log\n",
    "l=[1,3,65,3,-1,56,-10]\n",
    "for x in l:\n",
    "    if x < 0:\n",
    "        continue\n",
    "    print(f\"Square root of {x} is {sqrt(x):.3f}\")\n",
    "    print(f\"Natural logarithm of {x} is {log(x):.4f}\")"
   ]
  },
  {
   "cell_type": "markdown",
   "id": "99117b20",
   "metadata": {},
   "source": [
    "### Exercise 5"
   ]
  },
  {
   "cell_type": "code",
   "execution_count": null,
   "id": "36973c25",
   "metadata": {},
   "outputs": [],
   "source": []
  }
 ],
 "metadata": {
  "kernelspec": {
   "display_name": "Python 3 (ipykernel)",
   "language": "python",
   "name": "python3"
  },
  "language_info": {
   "codemirror_mode": {
    "name": "ipython",
    "version": 3
   },
   "file_extension": ".py",
   "mimetype": "text/x-python",
   "name": "python",
   "nbconvert_exporter": "python",
   "pygments_lexer": "ipython3",
   "version": "3.9.7"
  }
 },
 "nbformat": 4,
 "nbformat_minor": 5
}
